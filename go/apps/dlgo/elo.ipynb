{
 "cells": [
  {
   "attachments": {},
   "cell_type": "markdown",
   "metadata": {},
   "source": [
    "## elo 实验\n",
    "\n",
    "[elo wiki](https://en.wikipedia.org/wiki/Elo_rating_system)"
   ]
  },
  {
   "cell_type": "code",
   "execution_count": 16,
   "metadata": {},
   "outputs": [],
   "source": [
    "'''\n",
    "The maximum possible adjustment per game, called the K-factor, was set at \n",
    "K=16 for masters and K=32 for weaker players.\n",
    "\n",
    "\n",
    "# (Sa-Ea) + (Sb-Eb) = 0, 也就是通过期望重新分配K分。\n",
    "假设初始100名选手，起始分数都是1500，然后通过多轮对局来分配得分。\n",
    "\n",
    "    注定大概率输或赢的对局，即使正常博弈，赢家得分更少，输家丢分也更少。\n",
    "    出现小概率黑马事件，赢家丢大分，输家赢大分。\n",
    "    每局博弈，最多赌注也不超过K分。\n",
    "\n",
    "# Norm的问题，分数映射到概率空间，在使用概率空间的score来计算输赢概率\n",
    "    通过这个计算期望与实际结果比较，\n",
    "    在rank空间分配分数。\n",
    "\n",
    "    K 和 Norm的取值应该是从历史数据中拟合折中得到的。\n",
    "    怎么通过优化算法去学习K 和 Norm 来保证这个数学模型拟合数据\n",
    "    受影响的初始分配rank值，也是需要考虑的\n",
    "    \n",
    "        可以通过限制取值范围来学习norm\n",
    "        最终的效果是，对弈的概率符合分数map后的概率，并达到一种平衡。\n",
    "        10**x 类似于 e**x sigmod将值压缩到[0,1]概率区间的做法\n",
    "'''\n",
    "\n",
    "K = 32\n",
    "Norm = 400\n",
    "\n",
    "def calc_elo(Ra, Rb, Sa): # SA （胜=1分，和=0.5分，负=0分）\n",
    "    Sb = 1-Sa\n",
    "    Qa = 10 ** (Ra/Norm)\n",
    "    Qb = 10 ** (Rb/Norm)\n",
    "   \n",
    "    Ea =  Qa / (Qa+Qb)\n",
    "    Eb = Qb / (Qa+Qb)\n",
    "    \n",
    "    new_Ra = Ra + K*(Sa-Ea)\n",
    "    new_Rb = Rb + K*(Sb-Eb)\n",
    "    print(Sa-Ea, Sb-Eb)\n",
    "    \n",
    "    return new_Ra, new_Rb\n",
    "\n"
   ]
  },
  {
   "cell_type": "code",
   "execution_count": 17,
   "metadata": {},
   "outputs": [
    {
     "name": "stdout",
     "output_type": "stream",
     "text": [
      "-0.057311633762292535 0.057311633762292535\n",
      "A: 1613 -> 1611.166       \n",
      "B: 1573 -> 1574.834 \n"
     ]
    }
   ],
   "source": [
    "Ra, Rb, Sa = 1613, 1573, 0.5\n",
    "nRa, nRb = calc_elo(Ra, Rb, Sa)\n",
    "print(\"A: {} -> {:.3f} \\\n",
    "      \\nB: {} -> {:.3f} \".format(Ra, nRa, Rb, nRb))"
   ]
  },
  {
   "attachments": {},
   "cell_type": "markdown",
   "metadata": {},
   "source": [
    "### 数据模拟\n",
    "\n",
    "设计实验，解决上述模型的参数设置问题。\n",
    "优化目标是什么\n",
    "\n",
    "    # Norm的问题，分数映射到概率空间，在使用概率空间的score来计算输赢概率\n",
    "        通过这个计算期望与实际结果比较，\n",
    "        在rank空间分配分数。\n",
    "\n",
    "        K 和 Norm的取值应该是从历史数据中拟合折中得到的。\n",
    "        怎么通过优化算法去学习K 和 Norm 来保证这个数学模型拟合数据\n",
    "        受影响的初始分配rank值，也是需要考虑的\n",
    "        \n",
    "            可以通过限制取值范围来学习norm\n",
    "            最终的效果是，对弈的概率符合分数map后的概率，并达到一种平衡。\n",
    "            10**x 类似于 e**x sigmod将值压缩到[0,1]概率区间的做法\n",
    "\n"
   ]
  },
  {
   "cell_type": "code",
   "execution_count": null,
   "metadata": {},
   "outputs": [],
   "source": []
  }
 ],
 "metadata": {
  "kernelspec": {
   "display_name": "base",
   "language": "python",
   "name": "python3"
  },
  "language_info": {
   "codemirror_mode": {
    "name": "ipython",
    "version": 3
   },
   "file_extension": ".py",
   "mimetype": "text/x-python",
   "name": "python",
   "nbconvert_exporter": "python",
   "pygments_lexer": "ipython3",
   "version": "3.10.9"
  },
  "orig_nbformat": 4
 },
 "nbformat": 4,
 "nbformat_minor": 2
}
