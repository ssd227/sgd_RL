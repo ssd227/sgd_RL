{
 "cells": [
  {
   "attachments": {},
   "cell_type": "markdown",
   "metadata": {},
   "source": [
    "# actor critic (part2: 训练agent)"
   ]
  },
  {
   "cell_type": "code",
   "execution_count": 1,
   "metadata": {},
   "outputs": [
    {
     "name": "stdout",
     "output_type": "stream",
     "text": [
      "/playground/sgd_deep_learning/sgd_rl\n"
     ]
    }
   ],
   "source": [
    "# 环境配置\n",
    "%cd /playground/sgd_deep_learning/sgd_rl/go\n",
    "import sys\n",
    "sys.path.append('./python')"
   ]
  },
  {
   "cell_type": "code",
   "execution_count": 2,
   "metadata": {},
   "outputs": [
    {
     "name": "stderr",
     "output_type": "stream",
     "text": [
      "/opt/conda/lib/python3.10/site-packages/tqdm/auto.py:22: TqdmWarning: IProgress not found. Please update jupyter and ipywidgets. See https://ipywidgets.readthedocs.io/en/stable/user_install.html\n",
      "  from .autonotebook import tqdm as notebook_tqdm\n"
     ]
    }
   ],
   "source": [
    "import os\n",
    "import time\n",
    "import torch\n",
    "\n",
    "from dlgo import agent\n",
    "from dlgo import rl\n",
    "from dlgo.encoders import get_encoder_by_name\n",
    "from dlgo.networks import acnet_small"
   ]
  },
  {
   "cell_type": "code",
   "execution_count": 3,
   "metadata": {},
   "outputs": [
    {
     "name": "stdout",
     "output_type": "stream",
     "text": [
      "model file exists:  False\n",
      "device: cuda\n"
     ]
    }
   ],
   "source": [
    "# 数据 模型存放目录\n",
    "data_home_path = 'data/ac/'\n",
    "if not os.path.exists(data_home_path):\n",
    "    os.makedirs(data_home_path)\n",
    "\n",
    "class args:\n",
    "    learning_agent= data_home_path + 'agent_checkpoint.pth'\n",
    "    experience = [data_home_path + 'experience.pth'] # List\n",
    "    agent_out = data_home_path + 'agent_checkpoint_update.pth'\n",
    "    \n",
    "    board_size = 9 # 缩小计算量, 保证算法的验证速度\n",
    "    num_games = 10 # 每轮迭代只收集10games的数据\n",
    "    lr=0.01 # 学习率\n",
    "    batch_size =512 # batch_size\n",
    "    \n",
    "# 全局变量\n",
    "global BOARD_SIZE\n",
    "BOARD_SIZE = args.board_size\n",
    "\n",
    "device = torch.device(\"cuda\" if torch.cuda.is_available() else \"cpu\")\n",
    "\n",
    "print(\"model file exists: \", os.path.exists(args.learning_agent))\n",
    "print(\"device:\", device)"
   ]
  },
  {
   "cell_type": "code",
   "execution_count": 4,
   "metadata": {},
   "outputs": [
    {
     "name": "stdout",
     "output_type": "stream",
     "text": [
      "iter: 1 batch_size 512\n",
      "iter: 2 batch_size 512\n",
      "iter: 3 batch_size 144\n"
     ]
    }
   ],
   "source": [
    "def main():\n",
    "    learning_agent_filename = args.learning_agent\n",
    "    updated_agent_filename = args.agent_out\n",
    "    experience_files = args.experience\n",
    "    learning_rate = args.lr\n",
    "    batch_size = args.batch_size\n",
    "    \n",
    "    # init agent object\n",
    "    encoder_name = 'sevenplane'\n",
    "    model = acnet_small(input_channel_num=7, board_size=BOARD_SIZE)\n",
    "\n",
    "    # 训练阶段只需要一个agent, train self.model 即可\n",
    "    learning_agent = None\n",
    "    if not os.path.exists(learning_agent_filename): # check_point不存在\n",
    "        encoder = get_encoder_by_name(name=encoder_name, board_size=BOARD_SIZE)\n",
    "        learning_agent = rl.load_ac_agent(model=model, encoder=encoder, device=device)\n",
    "    else:\n",
    "        learning_agent = rl.load_ac_agent(model=model, save_path=learning_agent_filename, device=device)\n",
    "    assert learning_agent is not None\n",
    "\n",
    "    # 读取数据训练\n",
    "    for exp_filename in experience_files:\n",
    "        exp_buffer = rl.load_experience(exp_filename)\n",
    "        \n",
    "        learning_agent.train(\n",
    "            exp_buffer,\n",
    "            lr=learning_rate,\n",
    "            batch_size=batch_size)\n",
    "\n",
    "    # 更新后新模型保存\n",
    "    learning_agent.serialize(updated_agent_filename)\n",
    "\n",
    "main()"
   ]
  }
 ],
 "metadata": {
  "kernelspec": {
   "display_name": "base",
   "language": "python",
   "name": "python3"
  },
  "language_info": {
   "codemirror_mode": {
    "name": "ipython",
    "version": 3
   },
   "file_extension": ".py",
   "mimetype": "text/x-python",
   "name": "python",
   "nbconvert_exporter": "python",
   "pygments_lexer": "ipython3",
   "version": "3.10.9"
  },
  "orig_nbformat": 4
 },
 "nbformat": 4,
 "nbformat_minor": 2
}
