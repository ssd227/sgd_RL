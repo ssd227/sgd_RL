{
 "cells": [
  {
   "attachments": {},
   "cell_type": "markdown",
   "metadata": {},
   "source": [
    "## Bot Vs Bot"
   ]
  },
  {
   "cell_type": "code",
   "execution_count": null,
   "metadata": {},
   "outputs": [],
   "source": [
    "# 环境配置\n",
    "%cd /playground/sgd_deep_learning/sgd_rl/go\n",
    "import sys\n",
    "sys.path.append('./python')"
   ]
  },
  {
   "cell_type": "code",
   "execution_count": null,
   "metadata": {},
   "outputs": [],
   "source": [
    "from dlgo import goboard\n",
    "from dlgo import gotypes\n",
    "from dlgo.agent.naive import RandomBot\n",
    "from dlgo.utils import print_board, print_move\n",
    "import time\n",
    "\n",
    "from IPython.display import clear_output"
   ]
  },
  {
   "attachments": {},
   "cell_type": "markdown",
   "metadata": {},
   "source": [
    "### 打印游戏对局\n",
    "<1> We set a sleep timer to 0.3 seconds so that bot moves aren't printed too fast to observe   \n",
    "<2> Before each move we clear the screen. This way the board is always printed to the same position on the command line."
   ]
  },
  {
   "cell_type": "code",
   "execution_count": null,
   "metadata": {},
   "outputs": [],
   "source": [
    "board_size = 9\n",
    "game = goboard.GameState.new_game(board_size)\n",
    "bots = {\n",
    "    gotypes.Player.black: RandomBot(),\n",
    "    gotypes.Player.white: RandomBot(),\n",
    "}\n",
    "while not game.is_over():\n",
    "    time.sleep(0.1)  # <1>\n",
    "    # print(chr(27) + \"[2J\")  \n",
    "    clear_output(wait=True) # <2> clean the screen\n",
    "    \n",
    "    print_board(game.board)\n",
    "    \n",
    "    bot_move = bots[game.next_player].select_move(game)\n",
    "    print_move(game.next_player, bot_move)\n",
    "    game = game.apply_move(bot_move)"
   ]
  },
  {
   "attachments": {},
   "cell_type": "markdown",
   "metadata": {},
   "source": [
    "### 对局速度（goboard 三种实现比较）\n",
    "\n",
    "    slow:   5 rounds: avg time:2.15s\n",
    "    normal: 5 rounds: avg time:0.13s (快17倍）\n",
    "    fast:   5 rounds: avg time:0.04s (快54倍)"
   ]
  },
  {
   "cell_type": "code",
   "execution_count": null,
   "metadata": {},
   "outputs": [],
   "source": [
    "def oneround_time(game, bots):    \n",
    "    ts = time.time()\n",
    "\n",
    "    while not game.is_over():\n",
    "        bot_move = bots[game.next_player].select_move(game)\n",
    "        # print_move(game.next_player, bot_move)\n",
    "        game = game.apply_move(bot_move)\n",
    "    \n",
    "    te = time.time()\n",
    "    print(\"one rounds time:{:.2f}s\".format(te-ts))\n",
    "    return te-ts\n",
    "\n",
    "def test_game_speed(game, n=2):\n",
    "    bots = {\n",
    "        gotypes.Player.black: RandomBot(),\n",
    "        gotypes.Player.white: RandomBot(),\n",
    "    }\n",
    "\n",
    "    total_time = 0\n",
    "    for _ in range(n):\n",
    "        total_time += oneround_time(game, bots)\n",
    "    \n",
    "    avg_time = total_time/n\n",
    "    print(\"{} rounds: avg time:{:.2f}s\".format(n, avg_time))"
   ]
  },
  {
   "cell_type": "code",
   "execution_count": null,
   "metadata": {},
   "outputs": [],
   "source": [
    "from dlgo import goboard_slow\n",
    "from dlgo import goboard\n",
    "from dlgo import goboard_fast\n",
    "\n",
    "board_size = 9\n",
    "game_type = {\n",
    "    \"slow\" : goboard_slow.GameState.new_game(board_size),\n",
    "    \"normal\" : goboard.GameState.new_game(board_size),\n",
    "    \"fast\" : goboard_fast.GameState.new_game(board_size),\n",
    "}\n",
    "\n",
    "for x in [\"slow\", \"normal\", \"fast\"]:\n",
    "    print(x, end=\":\\n\")\n",
    "    test_game_speed(game_type[x], n=2)\n"
   ]
  },
  {
   "cell_type": "code",
   "execution_count": 7,
   "metadata": {},
   "outputs": [
    {
     "name": "stdout",
     "output_type": "stream",
     "text": [
      "normal:\n",
      "one rounds time:0.14s\n",
      "one rounds time:0.15s\n",
      "one rounds time:0.11s\n",
      "one rounds time:0.12s\n",
      "one rounds time:0.12s\n",
      "one rounds time:0.13s\n",
      "one rounds time:0.12s\n",
      "one rounds time:0.13s\n",
      "one rounds time:0.12s\n",
      "one rounds time:0.10s\n",
      "10 rounds: avg time:0.12s\n",
      "fast:\n",
      "one rounds time:0.04s\n",
      "one rounds time:0.04s\n",
      "one rounds time:0.03s\n",
      "one rounds time:0.04s\n",
      "one rounds time:0.06s\n",
      "one rounds time:0.06s\n",
      "one rounds time:0.03s\n",
      "one rounds time:0.04s\n",
      "one rounds time:0.04s\n",
      "one rounds time:0.05s\n",
      "10 rounds: avg time:0.04s\n"
     ]
    }
   ],
   "source": [
    "for x in [\"normal\", \"fast\"]:\n",
    "    print(x, end=\":\\n\")\n",
    "    test_game_speed(game_type[x], n=10)"
   ]
  }
 ],
 "metadata": {
  "kernelspec": {
   "display_name": "base",
   "language": "python",
   "name": "python3"
  },
  "language_info": {
   "codemirror_mode": {
    "name": "ipython",
    "version": 3
   },
   "file_extension": ".py",
   "mimetype": "text/x-python",
   "name": "python",
   "nbconvert_exporter": "python",
   "pygments_lexer": "ipython3",
   "version": "3.10.9"
  },
  "orig_nbformat": 4
 },
 "nbformat": 4,
 "nbformat_minor": 2
}
