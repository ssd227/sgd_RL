{
 "cells": [
  {
   "attachments": {},
   "cell_type": "markdown",
   "metadata": {},
   "source": [
    "## 剪枝策略-限制最大搜索深度（minmax优化版）"
   ]
  },
  {
   "cell_type": "code",
   "execution_count": null,
   "metadata": {},
   "outputs": [],
   "source": [
    "# 环境配置\n",
    "%cd /playground/sgd_deep_learning/sgd_rl/go\n",
    "import sys\n",
    "sys.path.append('./python')"
   ]
  },
  {
   "cell_type": "code",
   "execution_count": null,
   "metadata": {},
   "outputs": [],
   "source": [
    "from dlgo import goboard\n",
    "from dlgo import gotypes\n",
    "from dlgo import minimax\n",
    "from dlgo.utils import print_board, print_move, point_from_coords"
   ]
  },
  {
   "cell_type": "code",
   "execution_count": null,
   "metadata": {},
   "outputs": [],
   "source": [
    "# 仅仅通过棋面上的棋子数来判定当前局面（非常简化的处理，且不合理）\n",
    "def capture_diff(game_state):\n",
    "    black_stones = 0\n",
    "    white_stones = 0\n",
    "    for r in range(1, game_state.board.num_rows + 1):\n",
    "        for c in range(1, game_state.board.num_cols + 1):\n",
    "            p = gotypes.Point(r, c)\n",
    "            color = game_state.board.get(p)\n",
    "            if color == gotypes.Player.black:\n",
    "                black_stones += 1\n",
    "            elif color == gotypes.Player.white:\n",
    "                white_stones += 1\n",
    "    diff = black_stones - white_stones\n",
    "    if game_state.next_player == gotypes.Player.black:\n",
    "        return diff\n",
    "    return -1 * diff"
   ]
  },
  {
   "attachments": {},
   "cell_type": "markdown",
   "metadata": {},
   "source": [
    "### 人机博弈\n",
    "搜索深度为3，复杂度类似与tic tac toe的每一步的递归判定。 单线程的ai-bot的落子速度很慢。"
   ]
  },
  {
   "cell_type": "code",
   "execution_count": null,
   "metadata": {},
   "outputs": [],
   "source": [
    "BOARD_SIZE = 5\n",
    "game = goboard.GameState.new_game(BOARD_SIZE)\n",
    "bot = minimax.DepthPrunedAgent(3, capture_diff) # 最大搜索深度3，仅通过棋子数的diff来判断棋面局势\n",
    "\n",
    "while not game.is_over():\n",
    "    print_board(game.board)\n",
    "    if game.next_player == gotypes.Player.black:\n",
    "        human_move = input('输入落子[A1-]:')\n",
    "        point = point_from_coords(human_move.strip())\n",
    "        move = goboard.Move.play(point)\n",
    "    else:\n",
    "        move = bot.select_move(game)\n",
    "    print_move(game.next_player, move)\n",
    "    game = game.apply_move(move)"
   ]
  }
 ],
 "metadata": {
  "kernelspec": {
   "display_name": "base",
   "language": "python",
   "name": "python3"
  },
  "language_info": {
   "codemirror_mode": {
    "name": "ipython",
    "version": 3
   },
   "file_extension": ".py",
   "mimetype": "text/x-python",
   "name": "python",
   "nbconvert_exporter": "python",
   "pygments_lexer": "ipython3",
   "version": "3.10.9"
  },
  "orig_nbformat": 4
 },
 "nbformat": 4,
 "nbformat_minor": 2
}
