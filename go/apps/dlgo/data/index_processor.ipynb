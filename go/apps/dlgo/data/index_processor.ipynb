{
 "cells": [
  {
   "attachments": {},
   "cell_type": "markdown",
   "metadata": {},
   "source": [
    "## 下载棋谱 \n",
    "    下载kgs网站的SGF格式的棋谱, 棋谱文件(.tar.gz)保存在项目根目录/data/\n",
    "    爬虫实现细节见 python/dlgo/data/index_processor.py\n",
    "\n",
    "    '''This method will mirror the page https://u-go.net/gamerecords/ locally, \n",
    "    find all relevant download links, and then download the respective tar.gz files\n",
    "    in a separate folder called data.'''\n",
    "    index = KGSIndex()\n",
    "    index.download_files()"
   ]
  },
  {
   "cell_type": "code",
   "execution_count": 1,
   "metadata": {},
   "outputs": [
    {
     "name": "stdout",
     "output_type": "stream",
     "text": [
      "/playground/sgd_deep_learning/sgd_rl\n"
     ]
    }
   ],
   "source": [
    "# 环境配置\n",
    "%cd /playground/sgd_deep_learning/sgd_rl/go\n",
    "import sys\n",
    "sys.path.append('./python')"
   ]
  },
  {
   "cell_type": "code",
   "execution_count": 3,
   "metadata": {},
   "outputs": [],
   "source": [
    "from dlgo.data import  KGSIndex"
   ]
  },
  {
   "cell_type": "code",
   "execution_count": 4,
   "metadata": {},
   "outputs": [
    {
     "name": "stdout",
     "output_type": "stream",
     "text": [
      ">>> Downloading index page\n",
      "KGS-2019_04-19-1255-.tar.gz 1255\n",
      "KGS-2019_03-19-1478-.tar.gz 1478\n",
      "KGS-2019_02-19-1412-.tar.gz 1412\n",
      "KGS-2019_01-19-2095-.tar.gz 2095\n",
      "KGS-2018_12-19-1992-.tar.gz 1992\n",
      "KGS-2018_11-19-1879-.tar.gz 1879\n",
      "KGS-2018_10-19-1209-.tar.gz 1209\n",
      "KGS-2018_09-19-1587-.tar.gz 1587\n",
      "KGS-2018_08-19-1447-.tar.gz 1447\n",
      "KGS-2018_07-19-949-.tar.gz 949\n",
      "KGS-2018_06-19-1002-.tar.gz 1002\n",
      "KGS-2018_05-19-1590-.tar.gz 1590\n",
      "KGS-2018_04-19-1612-.tar.gz 1612\n",
      "KGS-2018_03-19-833-.tar.gz 833\n",
      "KGS-2018_02-19-1167-.tar.gz 1167\n",
      "KGS-2018_01-19-1526-.tar.gz 1526\n",
      "KGS-2017_12-19-1488-.tar.gz 1488\n",
      "KGS-2017_11-19-945-.tar.gz 945\n",
      "KGS-2017_10-19-1351-.tar.gz 1351\n",
      "KGS-2017_09-19-1353-.tar.gz 1353\n",
      "KGS-2017_08-19-2205-.tar.gz 2205\n",
      "KGS-2017_07-19-1191-.tar.gz 1191\n",
      "KGS-2017_06-19-910-.tar.gz 910\n",
      "KGS-2017_05-19-847-.tar.gz 847\n",
      "KGS-2017_04-19-913-.tar.gz 913\n",
      "KGS-2017_03-19-717-.tar.gz 717\n",
      "KGS-2017_02-19-525-.tar.gz 525\n",
      "KGS-2017_01-19-733-.tar.gz 733\n",
      "KGS-2016_12-19-1208-.tar.gz 1208\n",
      "KGS-2016_11-19-980-.tar.gz 980\n",
      "KGS-2016_10-19-925-.tar.gz 925\n",
      "KGS-2016_09-19-1170-.tar.gz 1170\n",
      "KGS-2016_08-19-1374-.tar.gz 1374\n",
      "KGS-2016_07-19-1432-.tar.gz 1432\n",
      "KGS-2016_06-19-1540-.tar.gz 1540\n",
      "KGS-2016_05-19-1011-.tar.gz 1011\n",
      "KGS-2016_04-19-1081-.tar.gz 1081\n",
      "KGS-2016_03-19-895-.tar.gz 895\n",
      "KGS-2016_02-19-577-.tar.gz 577\n",
      "KGS-2016_01-19-756-.tar.gz 756\n",
      "KGS-2015-19-8133-.tar.gz 8133\n",
      "KGS-2014-19-13029-.tar.gz 13029\n",
      "KGS-2013-19-13783-.tar.gz 13783\n",
      "KGS-2012-19-13665-.tar.gz 13665\n",
      "KGS-2011-19-19099-.tar.gz 19099\n",
      "KGS-2010-19-17536-.tar.gz 17536\n",
      "KGS-2009-19-18837-.tar.gz 18837\n",
      "KGS-2008-19-14002-.tar.gz 14002\n",
      "KGS-2007-19-11644-.tar.gz 11644\n",
      "KGS-2006-19-10388-.tar.gz 10388\n",
      "KGS-2005-19-13941-.tar.gz 13941\n",
      "KGS-2004-19-12106-.tar.gz 12106\n",
      "KGS-2003-19-7582-.tar.gz 7582\n",
      "KGS-2002-19-3646-.tar.gz 3646\n",
      "KGS-2001-19-2298-.tar.gz 2298\n",
      ">>> Downloading data/KGS-2018_09-19-1587-.tar.gz>>> Downloading data/KGS-2019_04-19-1255-.tar.gz>>> Downloading data/KGS-2018_11-19-1879-.tar.gz>>> Downloading data/KGS-2018_10-19-1209-.tar.gz>>> Downloading data/KGS-2018_08-19-1447-.tar.gz>>> Downloading data/KGS-2019_02-19-1412-.tar.gz>>> Downloading data/KGS-2018_07-19-949-.tar.gz>>> Downloading data/KGS-2018_05-19-1590-.tar.gz>>> Downloading data/KGS-2019_01-19-2095-.tar.gz\n",
      ">>> Downloading data/KGS-2018_06-19-1002-.tar.gz\n",
      "\n",
      "\n",
      "\n",
      "\n",
      "\n",
      ">>> Downloading data/KGS-2019_03-19-1478-.tar.gz>>> Downloading data/KGS-2018_12-19-1992-.tar.gz\n",
      "\n",
      "\n",
      "\n",
      "\n",
      ">>> Downloading data/KGS-2018_04-19-1612-.tar.gz\n",
      ">>> Downloading data/KGS-2018_03-19-833-.tar.gz\n",
      ">>> Downloading data/KGS-2018_02-19-1167-.tar.gz\n",
      ">>> Downloading data/KGS-2018_01-19-1526-.tar.gz\n",
      ">>> Downloading data/KGS-2017_12-19-1488-.tar.gz\n",
      ">>> Downloading data/KGS-2017_11-19-945-.tar.gz\n",
      ">>> Downloading data/KGS-2017_10-19-1351-.tar.gz\n",
      ">>> Downloading data/KGS-2017_09-19-1353-.tar.gz\n",
      ">>> Downloading data/KGS-2017_08-19-2205-.tar.gz\n",
      ">>> Downloading data/KGS-2017_07-19-1191-.tar.gz\n",
      ">>> Downloading data/KGS-2017_06-19-910-.tar.gz\n",
      ">>> Downloading data/KGS-2017_05-19-847-.tar.gz\n",
      ">>> Downloading data/KGS-2017_04-19-913-.tar.gz\n",
      ">>> Downloading data/KGS-2017_03-19-717-.tar.gz\n",
      ">>> Downloading data/KGS-2017_02-19-525-.tar.gz\n",
      ">>> Downloading data/KGS-2017_01-19-733-.tar.gz\n",
      ">>> Downloading data/KGS-2016_12-19-1208-.tar.gz\n",
      ">>> Downloading data/KGS-2016_11-19-980-.tar.gz\n",
      ">>> Downloading data/KGS-2016_10-19-925-.tar.gz\n",
      ">>> Downloading data/KGS-2016_09-19-1170-.tar.gz\n",
      ">>> Downloading data/KGS-2016_08-19-1374-.tar.gz\n",
      ">>> Downloading data/KGS-2016_07-19-1432-.tar.gz\n",
      ">>> Downloading data/KGS-2016_06-19-1540-.tar.gz\n",
      ">>> Downloading data/KGS-2016_05-19-1011-.tar.gz\n",
      ">>> Downloading data/KGS-2016_04-19-1081-.tar.gz\n",
      ">>> Downloading data/KGS-2016_03-19-895-.tar.gz\n",
      ">>> Downloading data/KGS-2016_02-19-577-.tar.gz\n",
      ">>> Downloading data/KGS-2016_01-19-756-.tar.gz\n",
      ">>> Downloading data/KGS-2015-19-8133-.tar.gz\n",
      ">>> Downloading data/KGS-2014-19-13029-.tar.gz\n",
      ">>> Downloading data/KGS-2013-19-13783-.tar.gz\n",
      ">>> Downloading data/KGS-2012-19-13665-.tar.gz\n",
      ">>> Downloading data/KGS-2011-19-19099-.tar.gz\n",
      ">>> Downloading data/KGS-2010-19-17536-.tar.gz\n",
      ">>> Downloading data/KGS-2009-19-18837-.tar.gz\n",
      ">>> Downloading data/KGS-2008-19-14002-.tar.gz\n",
      ">>> Downloading data/KGS-2007-19-11644-.tar.gz\n",
      ">>> Downloading data/KGS-2006-19-10388-.tar.gz\n",
      ">>> Downloading data/KGS-2005-19-13941-.tar.gz\n",
      ">>> Downloading data/KGS-2004-19-12106-.tar.gz\n",
      ">>> Downloading data/KGS-2003-19-7582-.tar.gz\n",
      ">>> Downloading data/KGS-2002-19-3646-.tar.gz\n",
      ">>> Downloading data/KGS-2001-19-2298-.tar.gz\n"
     ]
    }
   ],
   "source": [
    "index = KGSIndex()\n",
    "index.download_files()"
   ]
  }
 ],
 "metadata": {
  "kernelspec": {
   "display_name": "base",
   "language": "python",
   "name": "python3"
  },
  "language_info": {
   "codemirror_mode": {
    "name": "ipython",
    "version": 3
   },
   "file_extension": ".py",
   "mimetype": "text/x-python",
   "name": "python",
   "nbconvert_exporter": "python",
   "pygments_lexer": "ipython3",
   "version": "3.10.9"
  },
  "orig_nbformat": 4
 },
 "nbformat": 4,
 "nbformat_minor": 2
}
