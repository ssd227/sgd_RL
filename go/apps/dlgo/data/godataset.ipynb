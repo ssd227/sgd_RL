{
 "cells": [
  {
   "attachments": {},
   "cell_type": "markdown",
   "metadata": {},
   "source": [
    "## GoDateset"
   ]
  },
  {
   "cell_type": "code",
   "execution_count": 1,
   "metadata": {},
   "outputs": [
    {
     "name": "stdout",
     "output_type": "stream",
     "text": [
      "/playground/sgd_deep_learning/sgd_rl\n"
     ]
    }
   ],
   "source": [
    "# 环境配置\n",
    "%cd /playground/sgd_deep_learning/sgd_rl/go\n",
    "import sys\n",
    "sys.path.append('./python')"
   ]
  },
  {
   "cell_type": "code",
   "execution_count": 2,
   "metadata": {},
   "outputs": [
    {
     "name": "stderr",
     "output_type": "stream",
     "text": [
      "/opt/conda/lib/python3.10/site-packages/tqdm/auto.py:22: TqdmWarning: IProgress not found. Please update jupyter and ipywidgets. See https://ipywidgets.readthedocs.io/en/stable/user_install.html\n",
      "  from .autonotebook import tqdm as notebook_tqdm\n"
     ]
    }
   ],
   "source": [
    "from torch.utils.data import DataLoader\n",
    "from dlgo.data import GoDataset"
   ]
  },
  {
   "cell_type": "code",
   "execution_count": 3,
   "metadata": {},
   "outputs": [],
   "source": [
    "preprocess_dir = 'data/oneplane/'\n",
    "num_workers = 0\n",
    "\n",
    "train_dataset = GoDataset(preprocess_dir, datatype='train')\n",
    "test_dataset = GoDataset(preprocess_dir, datatype='test')\n",
    "\n",
    "train_dataloader = DataLoader(train_dataset, batch_size=64, shuffle=False, num_workers=num_workers)\n",
    "test_dataloader = DataLoader(test_dataset, batch_size=64, shuffle=False, num_workers=num_workers)\n",
    "\n",
    "    \n",
    "# 不shuffle, 就没有很多问题，每次只需要缓存几个文件\n",
    "# 但是这样就会导致棋局后面的棋面的bias，学习率下降。 所以用 优化器adagrad adadelta\n",
    "# 可以对比测试一下，shuffle和不shuffle的差异。添加缓存设计后是什么情况。\n",
    "# reshuffle the data at every epoch to reduce model overfitting"
   ]
  },
  {
   "cell_type": "code",
   "execution_count": 4,
   "metadata": {},
   "outputs": [
    {
     "name": "stdout",
     "output_type": "stream",
     "text": [
      "<class 'torch.Tensor'> torch.Size([1, 19, 19]) torch.bfloat16\n",
      "<class 'torch.Tensor'> torch.Size([]) tensor(68) torch.int64\n",
      "数据集样本数 977920 190464\n"
     ]
    }
   ],
   "source": [
    "x, y = train_dataset[0]\n",
    "print(type(x), x.shape, x.dtype)\n",
    "print(type(y), y.shape, y, y.dtype)\n",
    "\n",
    "print(\"数据集样本数\", len(train_dataset), len(test_dataset))"
   ]
  },
  {
   "cell_type": "code",
   "execution_count": 15,
   "metadata": {},
   "outputs": [
    {
     "name": "stdout",
     "output_type": "stream",
     "text": [
      "torch.Size([64, 1, 19, 19]) torch.Size([64])\n"
     ]
    }
   ],
   "source": [
    "for x,y in train_dataloader:\n",
    "    print(x.shape, y.shape)\n",
    "    break"
   ]
  },
  {
   "attachments": {},
   "cell_type": "markdown",
   "metadata": {},
   "source": [
    "### 测试dataloader吞吐量"
   ]
  },
  {
   "cell_type": "code",
   "execution_count": 5,
   "metadata": {},
   "outputs": [],
   "source": [
    "import time\n",
    "\n",
    "def test_time(func):\n",
    "    def wrapper(*args, **kwargs):\n",
    "        start_time = time.time()  # 记录函数开始时间\n",
    "        result = func(*args, **kwargs)  # 调用原始函数\n",
    "        end_time = time.time()  # 记录函数结束时间\n",
    "        execution_time = end_time - start_time  # 计算函数执行时间\n",
    "        print(f\"{func.__name__} 执行时间: {execution_time:.6f} 秒\")\n",
    "        return result\n",
    "    return wrapper\n",
    "\n",
    "@test_time\n",
    "def load_data_loop(num=10000):\n",
    "    count = 0\n",
    "    \n",
    "    for x, y in train_dataloader:\n",
    "        if count > num:\n",
    "            break\n",
    "        else:\n",
    "            count += x.shape[0]"
   ]
  },
  {
   "attachments": {},
   "cell_type": "markdown",
   "metadata": {},
   "source": [
    "### 结果展示\n",
    "---\n",
    "    load_data_loop(1e2)\n",
    "        load_data_loop 执行时间: 1.552093 秒\n",
    "        每一次都重新打开一遍文件，且只读取一个文件，这个加载效率太低下\n",
    "    \n",
    "    增加缓存，减少文件读取次数\n",
    "        加载1W条数据不到  0.47s << time(gpu内模型计算1W条数据)\n",
    "        这个dataload 多次执行，还能继续优化加载速度，speedup 0.94s -> 0.47s"
   ]
  },
  {
   "cell_type": "code",
   "execution_count": 14,
   "metadata": {},
   "outputs": [
    {
     "name": "stdout",
     "output_type": "stream",
     "text": [
      "load_data_loop 执行时间: 0.473474 秒\n"
     ]
    }
   ],
   "source": [
    "load_data_loop(1e4)"
   ]
  }
 ],
 "metadata": {
  "kernelspec": {
   "display_name": "base",
   "language": "python",
   "name": "python3"
  },
  "language_info": {
   "codemirror_mode": {
    "name": "ipython",
    "version": 3
   },
   "file_extension": ".py",
   "mimetype": "text/x-python",
   "name": "python",
   "nbconvert_exporter": "python",
   "pygments_lexer": "ipython3",
   "version": "3.10.9"
  },
  "orig_nbformat": 4
 },
 "nbformat": 4,
 "nbformat_minor": 2
}
