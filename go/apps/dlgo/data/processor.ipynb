{
 "cells": [
  {
   "attachments": {},
   "cell_type": "markdown",
   "metadata": {},
   "source": [
    "## SGF棋盘数据预处理"
   ]
  },
  {
   "cell_type": "code",
   "execution_count": null,
   "metadata": {},
   "outputs": [],
   "source": [
    "# 环境配置\n",
    "%cd /playground/sgd_deep_learning/sgd_rl/go\n",
    "import sys\n",
    "sys.path.append('./python')"
   ]
  },
  {
   "cell_type": "code",
   "execution_count": null,
   "metadata": {},
   "outputs": [],
   "source": [
    "from dlgo.data import  GoDataProcessor # 单线程\n",
    "from dlgo.data import  GoDataProcessorFast # 多线程"
   ]
  },
  {
   "attachments": {},
   "cell_type": "markdown",
   "metadata": {},
   "source": [
    "### 单线程处理\n",
    "    * 每次执行，都会重新采样一遍，比较费时费力。 而且不同的encoder需要重新执行一遍。最好把数据按照encoder，新建一个目录然后归类。\n",
    "\n",
    "    * 才处理了100局游戏数据，就已经很慢了25s。需要使用并发提速\n",
    "        总共17 0000 局游戏，总处理代价11小时。这还是最简单的oneplane编码格式\n",
    "\n",
    "    * todo 改造成pytorch data set 和 data loader的格式，方便一键训练模型"
   ]
  },
  {
   "cell_type": "code",
   "execution_count": null,
   "metadata": {},
   "outputs": [],
   "source": [
    "go_data_process = GoDataProcessor(encoder='oneplane', data_directory='data')\n",
    "train_data = go_data_process.load_go_data(data_type='train', num_samples=100)"
   ]
  },
  {
   "attachments": {},
   "cell_type": "markdown",
   "metadata": {},
   "source": [
    "### 多线程并发\n",
    "        # 默认进程池数量=cpu cores num (6核心12线程)\n",
    "        speedup 25s -> 6s 也就快了3-4倍，还能更快吗？"
   ]
  },
  {
   "cell_type": "code",
   "execution_count": null,
   "metadata": {},
   "outputs": [],
   "source": [
    "go_data_process = GoDataProcessorFast(encoder='oneplane', data_directory='data')\n",
    "train_data = go_data_process.load_go_data(data_type='train', num_samples=100)"
   ]
  },
  {
   "attachments": {},
   "cell_type": "markdown",
   "metadata": {},
   "source": [
    "### 线程池数调优\n",
    "    cpu：3600X(6-core,12-process)\n",
    "    100局游戏6s完成处理。12线程也就比单线程快了4倍左右，全量数据可以由11h缩短为3h\n",
    "\n",
    "    采样100games\n",
    "    线程池数:9, 100局游戏cost8.037\n",
    "    线程池数:10, 100局游戏cost7.213\n",
    "    线程池数:11, 100局游戏cost7.136\n",
    "    线程池数:12, 100局游戏cost6.726  !较快\n",
    "    线程池数:13, 100局游戏cost6.856\n",
    "    线程池数:14, 100局游戏cost6.222  !最快\n",
    "    线程池数:15, 100局游戏cost6.568\n",
    "    线程池数:16, 100局游戏cost6.733\n",
    "    线程池数:17, 100局游戏cost6.857\n",
    "    线程池数:18, 100局游戏cost6.901\n",
    "    线程池数:19, 100局游戏cost6.614\n",
    "\n",
    "    采样200games\n",
    "    线程池数:10, 100局游戏cost8.029\n",
    "    线程池数:11, 100局游戏cost7.849\n",
    "    线程池数:12, 100局游戏cost7.311  !较快\n",
    "    线程池数:13, 100局游戏cost7.666\n",
    "    线程池数:14, 100局游戏cost7.521\n",
    "    线程池数:15, 100局游戏cost7.199  !最快\n",
    "\n",
    "    结论：选取默认的虚拟核数量就好\n",
    "    "
   ]
  },
  {
   "cell_type": "code",
   "execution_count": null,
   "metadata": {},
   "outputs": [],
   "source": [
    "import time\n",
    "process_num=12 # 默认是6核心12线程\n",
    "def test_time(process_num):\n",
    "    t1 = time.time()\n",
    "    go_data_process = GoDataProcessorFast(encoder='oneplane', data_directory='data', process_num=process_num)\n",
    "    train_data = go_data_process.load_go_data(data_type='train', num_samples=200)\n",
    "    t2 = time.time()\n",
    "    \n",
    "    return \"线程池数:{}, 100局游戏cost{:.3f}\".format(process_num, t2-t1)\n",
    "\n",
    "# 实验使用，默认不执行\n",
    "# logs = []\n",
    "# for i in range(10, 16):\n",
    "#     logs.append(test_time(process_num=i))\n",
    "    \n",
    "# for s in logs:\n",
    "#     print(s)"
   ]
  }
 ],
 "metadata": {
  "kernelspec": {
   "display_name": "base",
   "language": "python",
   "name": "python3"
  },
  "language_info": {
   "codemirror_mode": {
    "name": "ipython",
    "version": 3
   },
   "file_extension": ".py",
   "mimetype": "text/x-python",
   "name": "python",
   "nbconvert_exporter": "python",
   "pygments_lexer": "ipython3",
   "version": "3.10.9"
  },
  "orig_nbformat": 4
 },
 "nbformat": 4,
 "nbformat_minor": 2
}
