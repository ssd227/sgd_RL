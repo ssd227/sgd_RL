{
 "cells": [
  {
   "attachments": {},
   "cell_type": "markdown",
   "metadata": {},
   "source": [
    "## 正式的数据预处理脚本 （for 监督模型的训练）"
   ]
  },
  {
   "cell_type": "code",
   "execution_count": 1,
   "metadata": {},
   "outputs": [
    {
     "name": "stdout",
     "output_type": "stream",
     "text": [
      "/playground/sgd_deep_learning/sgd_rl\n"
     ]
    }
   ],
   "source": [
    "# 环境配置\n",
    "%cd /playground/sgd_deep_learning/sgd_rl/go\n",
    "import sys\n",
    "sys.path.append('./python')"
   ]
  },
  {
   "cell_type": "code",
   "execution_count": 2,
   "metadata": {},
   "outputs": [],
   "source": [
    "!rm test_samples.py\n",
    "!rm data/oneplane/*.npy\n",
    "!rm data/sevenplane/*.npy\n"
   ]
  },
  {
   "cell_type": "code",
   "execution_count": 3,
   "metadata": {},
   "outputs": [
    {
     "name": "stderr",
     "output_type": "stream",
     "text": [
      "/opt/conda/lib/python3.10/site-packages/tqdm/auto.py:22: TqdmWarning: IProgress not found. Please update jupyter and ipywidgets. See https://ipywidgets.readthedocs.io/en/stable/user_install.html\n",
      "  from .autonotebook import tqdm as notebook_tqdm\n"
     ]
    }
   ],
   "source": [
    "from dlgo.data import  GoDataProcessorFast, GoDataset\n",
    "\n",
    "encoder = 'sevenplane'\n",
    "train_samples = 2000\n",
    "root_dir = 'data'\n",
    "# test_samples = 100 # 默认值，写死在sampling.py"
   ]
  },
  {
   "attachments": {},
   "cell_type": "markdown",
   "metadata": {},
   "source": [
    "### Step1：并发模拟对局数据生成\n",
    "    * 生成npy文件，每个文件的chunksize=1024 \n",
    "    * 存储在对应encoder同名文件下"
   ]
  },
  {
   "cell_type": "code",
   "execution_count": 4,
   "metadata": {},
   "outputs": [
    {
     "name": "stdout",
     "output_type": "stream",
     "text": [
      ">>> Reading cached index page\n",
      "KGS-2019_04-19-1255-.tar.gz 1255\n",
      "KGS-2019_03-19-1478-.tar.gz 1478\n",
      "KGS-2019_02-19-1412-.tar.gz 1412\n",
      "KGS-2019_01-19-2095-.tar.gz 2095\n",
      "KGS-2018_12-19-1992-.tar.gz 1992\n",
      "KGS-2018_11-19-1879-.tar.gz 1879\n",
      "KGS-2018_10-19-1209-.tar.gz 1209\n",
      "KGS-2018_09-19-1587-.tar.gz 1587\n",
      "KGS-2018_08-19-1447-.tar.gz 1447\n",
      "KGS-2018_07-19-949-.tar.gz 949\n",
      "KGS-2018_06-19-1002-.tar.gz 1002\n",
      "KGS-2018_05-19-1590-.tar.gz 1590\n",
      "KGS-2018_04-19-1612-.tar.gz 1612\n",
      "KGS-2018_03-19-833-.tar.gz 833\n",
      "KGS-2018_02-19-1167-.tar.gz 1167\n",
      "KGS-2018_01-19-1526-.tar.gz 1526\n",
      "KGS-2017_12-19-1488-.tar.gz 1488\n",
      "KGS-2017_11-19-945-.tar.gz 945\n",
      "KGS-2017_10-19-1351-.tar.gz 1351\n",
      "KGS-2017_09-19-1353-.tar.gz 1353\n",
      "KGS-2017_08-19-2205-.tar.gz 2205\n",
      "KGS-2017_07-19-1191-.tar.gz 1191\n",
      "KGS-2017_06-19-910-.tar.gz 910\n",
      "KGS-2017_05-19-847-.tar.gz 847\n",
      "KGS-2017_04-19-913-.tar.gz 913\n",
      "KGS-2017_03-19-717-.tar.gz 717\n",
      "KGS-2017_02-19-525-.tar.gz 525\n",
      "KGS-2017_01-19-733-.tar.gz 733\n",
      "KGS-2016_12-19-1208-.tar.gz 1208\n",
      "KGS-2016_11-19-980-.tar.gz 980\n",
      "KGS-2016_10-19-925-.tar.gz 925\n",
      "KGS-2016_09-19-1170-.tar.gz 1170\n",
      "KGS-2016_08-19-1374-.tar.gz 1374\n",
      "KGS-2016_07-19-1432-.tar.gz 1432\n",
      "KGS-2016_06-19-1540-.tar.gz 1540\n",
      "KGS-2016_05-19-1011-.tar.gz 1011\n",
      "KGS-2016_04-19-1081-.tar.gz 1081\n",
      "KGS-2016_03-19-895-.tar.gz 895\n",
      "KGS-2016_02-19-577-.tar.gz 577\n",
      "KGS-2016_01-19-756-.tar.gz 756\n",
      "KGS-2015-19-8133-.tar.gz 8133\n",
      "KGS-2014-19-13029-.tar.gz 13029\n",
      "KGS-2013-19-13783-.tar.gz 13783\n",
      "KGS-2012-19-13665-.tar.gz 13665\n",
      "KGS-2011-19-19099-.tar.gz 19099\n",
      "KGS-2010-19-17536-.tar.gz 17536\n",
      "KGS-2009-19-18837-.tar.gz 18837\n",
      "KGS-2008-19-14002-.tar.gz 14002\n",
      "KGS-2007-19-11644-.tar.gz 11644\n",
      "KGS-2006-19-10388-.tar.gz 10388\n",
      "KGS-2005-19-13941-.tar.gz 13941\n",
      "KGS-2004-19-12106-.tar.gz 12106\n",
      "KGS-2003-19-7582-.tar.gz 7582\n",
      "KGS-2002-19-3646-.tar.gz 3646\n",
      "KGS-2001-19-2298-.tar.gz 2298\n",
      ">>> Reading cached index page\n",
      "KGS-2019_04-19-1255-.tar.gz 1255\n",
      "KGS-2019_03-19-1478-.tar.gz 1478\n",
      "KGS-2019_02-19-1412-.tar.gz 1412\n",
      "KGS-2019_01-19-2095-.tar.gz 2095\n",
      "KGS-2018_12-19-1992-.tar.gz 1992\n",
      "KGS-2018_11-19-1879-.tar.gz 1879\n",
      "KGS-2018_10-19-1209-.tar.gz 1209\n",
      "KGS-2018_09-19-1587-.tar.gz 1587\n",
      "KGS-2018_08-19-1447-.tar.gz 1447\n",
      "KGS-2018_07-19-949-.tar.gz 949\n",
      "KGS-2018_06-19-1002-.tar.gz 1002\n",
      "KGS-2018_05-19-1590-.tar.gz 1590\n",
      "KGS-2018_04-19-1612-.tar.gz 1612\n",
      "KGS-2018_03-19-833-.tar.gz 833\n",
      "KGS-2018_02-19-1167-.tar.gz 1167\n",
      "KGS-2018_01-19-1526-.tar.gz 1526\n",
      "KGS-2017_12-19-1488-.tar.gz 1488\n",
      "KGS-2017_11-19-945-.tar.gz 945\n",
      "KGS-2017_10-19-1351-.tar.gz 1351\n",
      "KGS-2017_09-19-1353-.tar.gz 1353\n",
      "KGS-2017_08-19-2205-.tar.gz 2205\n",
      "KGS-2017_07-19-1191-.tar.gz 1191\n",
      "KGS-2017_06-19-910-.tar.gz 910\n",
      "KGS-2017_05-19-847-.tar.gz 847\n",
      "KGS-2017_04-19-913-.tar.gz 913\n",
      "KGS-2017_03-19-717-.tar.gz 717\n",
      "KGS-2017_02-19-525-.tar.gz 525\n",
      "KGS-2017_01-19-733-.tar.gz 733\n",
      "KGS-2016_12-19-1208-.tar.gz 1208\n",
      "KGS-2016_11-19-980-.tar.gz 980\n",
      "KGS-2016_10-19-925-.tar.gz 925\n",
      "KGS-2016_09-19-1170-.tar.gz 1170\n",
      "KGS-2016_08-19-1374-.tar.gz 1374\n",
      "KGS-2016_07-19-1432-.tar.gz 1432\n",
      "KGS-2016_06-19-1540-.tar.gz 1540\n",
      "KGS-2016_05-19-1011-.tar.gz 1011\n",
      "KGS-2016_04-19-1081-.tar.gz 1081\n",
      "KGS-2016_03-19-895-.tar.gz 895\n",
      "KGS-2016_02-19-577-.tar.gz 577\n",
      "KGS-2016_01-19-756-.tar.gz 756\n",
      "KGS-2015-19-8133-.tar.gz 8133\n",
      "KGS-2014-19-13029-.tar.gz 13029\n",
      "KGS-2013-19-13783-.tar.gz 13783\n",
      "KGS-2012-19-13665-.tar.gz 13665\n",
      "KGS-2011-19-19099-.tar.gz 19099\n",
      "KGS-2010-19-17536-.tar.gz 17536\n",
      "KGS-2009-19-18837-.tar.gz 18837\n",
      "KGS-2008-19-14002-.tar.gz 14002\n",
      "KGS-2007-19-11644-.tar.gz 11644\n",
      "KGS-2006-19-10388-.tar.gz 10388\n",
      "KGS-2005-19-13941-.tar.gz 13941\n",
      "KGS-2004-19-12106-.tar.gz 12106\n",
      "KGS-2003-19-7582-.tar.gz 7582\n",
      "KGS-2002-19-3646-.tar.gz 3646\n",
      "KGS-2001-19-2298-.tar.gz 2298\n",
      ">>> Total number of games used: 179689\n",
      "Drawn 100 samples:\n",
      ">>> Reading cached index page\n",
      "KGS-2019_04-19-1255-.tar.gz 1255\n",
      "KGS-2019_03-19-1478-.tar.gz 1478\n",
      "KGS-2019_02-19-1412-.tar.gz 1412\n",
      "KGS-2019_01-19-2095-.tar.gz 2095\n",
      "KGS-2018_12-19-1992-.tar.gz 1992\n",
      "KGS-2018_11-19-1879-.tar.gz 1879\n",
      "KGS-2018_10-19-1209-.tar.gz 1209\n",
      "KGS-2018_09-19-1587-.tar.gz 1587\n",
      "KGS-2018_08-19-1447-.tar.gz 1447\n",
      "KGS-2018_07-19-949-.tar.gz 949\n",
      "KGS-2018_06-19-1002-.tar.gz 1002\n",
      "KGS-2018_05-19-1590-.tar.gz 1590\n",
      "KGS-2018_04-19-1612-.tar.gz 1612\n",
      "KGS-2018_03-19-833-.tar.gz 833\n",
      "KGS-2018_02-19-1167-.tar.gz 1167\n",
      "KGS-2018_01-19-1526-.tar.gz 1526\n",
      "KGS-2017_12-19-1488-.tar.gz 1488\n",
      "KGS-2017_11-19-945-.tar.gz 945\n",
      "KGS-2017_10-19-1351-.tar.gz 1351\n",
      "KGS-2017_09-19-1353-.tar.gz 1353\n",
      "KGS-2017_08-19-2205-.tar.gz 2205\n",
      "KGS-2017_07-19-1191-.tar.gz 1191\n",
      "KGS-2017_06-19-910-.tar.gz 910\n",
      "KGS-2017_05-19-847-.tar.gz 847\n",
      "KGS-2017_04-19-913-.tar.gz 913\n",
      "KGS-2017_03-19-717-.tar.gz 717\n",
      "KGS-2017_02-19-525-.tar.gz 525\n",
      "KGS-2017_01-19-733-.tar.gz 733\n",
      "KGS-2016_12-19-1208-.tar.gz 1208\n",
      "KGS-2016_11-19-980-.tar.gz 980\n",
      "KGS-2016_10-19-925-.tar.gz 925\n",
      "KGS-2016_09-19-1170-.tar.gz 1170\n",
      "KGS-2016_08-19-1374-.tar.gz 1374\n",
      "KGS-2016_07-19-1432-.tar.gz 1432\n",
      "KGS-2016_06-19-1540-.tar.gz 1540\n",
      "KGS-2016_05-19-1011-.tar.gz 1011\n",
      "KGS-2016_04-19-1081-.tar.gz 1081\n",
      "KGS-2016_03-19-895-.tar.gz 895\n",
      "KGS-2016_02-19-577-.tar.gz 577\n",
      "KGS-2016_01-19-756-.tar.gz 756\n",
      "KGS-2015-19-8133-.tar.gz 8133\n",
      "KGS-2014-19-13029-.tar.gz 13029\n",
      "KGS-2013-19-13783-.tar.gz 13783\n",
      "KGS-2012-19-13665-.tar.gz 13665\n",
      "KGS-2011-19-19099-.tar.gz 19099\n",
      "KGS-2010-19-17536-.tar.gz 17536\n",
      "KGS-2009-19-18837-.tar.gz 18837\n",
      "KGS-2008-19-14002-.tar.gz 14002\n",
      "KGS-2007-19-11644-.tar.gz 11644\n",
      "KGS-2006-19-10388-.tar.gz 10388\n",
      "KGS-2005-19-13941-.tar.gz 13941\n",
      "KGS-2004-19-12106-.tar.gz 12106\n",
      "KGS-2003-19-7582-.tar.gz 7582\n",
      "KGS-2002-19-3646-.tar.gz 3646\n",
      "KGS-2001-19-2298-.tar.gz 2298\n",
      "total num games: 179689\n",
      "Drawn 2000 samples:\n",
      "线程数 12\n"
     ]
    }
   ],
   "source": [
    "# 训练集预处理\n",
    "go_data_process = GoDataProcessorFast(encoder=encoder, data_directory=root_dir)\n",
    "go_data_process.load_go_data(data_type='train', num_samples=train_samples)"
   ]
  },
  {
   "cell_type": "code",
   "execution_count": 5,
   "metadata": {},
   "outputs": [
    {
     "name": "stdout",
     "output_type": "stream",
     "text": [
      ">>> Reading cached index page\n",
      "KGS-2019_04-19-1255-.tar.gz 1255\n",
      "KGS-2019_03-19-1478-.tar.gz 1478\n",
      "KGS-2019_02-19-1412-.tar.gz 1412\n",
      "KGS-2019_01-19-2095-.tar.gz 2095\n",
      "KGS-2018_12-19-1992-.tar.gz 1992\n",
      "KGS-2018_11-19-1879-.tar.gz 1879\n",
      "KGS-2018_10-19-1209-.tar.gz 1209\n",
      "KGS-2018_09-19-1587-.tar.gz 1587\n",
      "KGS-2018_08-19-1447-.tar.gz 1447\n",
      "KGS-2018_07-19-949-.tar.gz 949\n",
      "KGS-2018_06-19-1002-.tar.gz 1002\n",
      "KGS-2018_05-19-1590-.tar.gz 1590\n",
      "KGS-2018_04-19-1612-.tar.gz 1612\n",
      "KGS-2018_03-19-833-.tar.gz 833\n",
      "KGS-2018_02-19-1167-.tar.gz 1167\n",
      "KGS-2018_01-19-1526-.tar.gz 1526\n",
      "KGS-2017_12-19-1488-.tar.gz 1488\n",
      "KGS-2017_11-19-945-.tar.gz 945\n",
      "KGS-2017_10-19-1351-.tar.gz 1351\n",
      "KGS-2017_09-19-1353-.tar.gz 1353\n",
      "KGS-2017_08-19-2205-.tar.gz 2205\n",
      "KGS-2017_07-19-1191-.tar.gz 1191\n",
      "KGS-2017_06-19-910-.tar.gz 910\n",
      "KGS-2017_05-19-847-.tar.gz 847\n",
      "KGS-2017_04-19-913-.tar.gz 913\n",
      "KGS-2017_03-19-717-.tar.gz 717\n",
      "KGS-2017_02-19-525-.tar.gz 525\n",
      "KGS-2017_01-19-733-.tar.gz 733\n",
      "KGS-2016_12-19-1208-.tar.gz 1208\n",
      "KGS-2016_11-19-980-.tar.gz 980\n",
      "KGS-2016_10-19-925-.tar.gz 925\n",
      "KGS-2016_09-19-1170-.tar.gz 1170\n",
      "KGS-2016_08-19-1374-.tar.gz 1374\n",
      "KGS-2016_07-19-1432-.tar.gz 1432\n",
      "KGS-2016_06-19-1540-.tar.gz 1540\n",
      "KGS-2016_05-19-1011-.tar.gz 1011\n",
      "KGS-2016_04-19-1081-.tar.gz 1081\n",
      "KGS-2016_03-19-895-.tar.gz 895\n",
      "KGS-2016_02-19-577-.tar.gz 577\n",
      "KGS-2016_01-19-756-.tar.gz 756\n",
      "KGS-2015-19-8133-.tar.gz 8133\n",
      "KGS-2014-19-13029-.tar.gz 13029\n",
      "KGS-2013-19-13783-.tar.gz 13783\n",
      "KGS-2012-19-13665-.tar.gz 13665\n",
      "KGS-2011-19-19099-.tar.gz 19099\n",
      "KGS-2010-19-17536-.tar.gz 17536\n",
      "KGS-2009-19-18837-.tar.gz 18837\n",
      "KGS-2008-19-14002-.tar.gz 14002\n",
      "KGS-2007-19-11644-.tar.gz 11644\n",
      "KGS-2006-19-10388-.tar.gz 10388\n",
      "KGS-2005-19-13941-.tar.gz 13941\n",
      "KGS-2004-19-12106-.tar.gz 12106\n",
      "KGS-2003-19-7582-.tar.gz 7582\n",
      "KGS-2002-19-3646-.tar.gz 3646\n",
      "KGS-2001-19-2298-.tar.gz 2298\n",
      "线程数 12\n"
     ]
    }
   ],
   "source": [
    "# 测试集预处理\n",
    "go_data_process = GoDataProcessorFast(encoder=encoder, data_directory=root_dir)\n",
    "go_data_process.load_go_data(data_type='test') # 默认num_samples=100"
   ]
  },
  {
   "attachments": {},
   "cell_type": "markdown",
   "metadata": {},
   "source": [
    "### step2: dataset加载中间结果， 使用dataloader、transform直接作为训练输入接口"
   ]
  },
  {
   "cell_type": "code",
   "execution_count": 8,
   "metadata": {},
   "outputs": [],
   "source": [
    "from torch.utils.data import DataLoader\n",
    "\n",
    "preprocess_dir = 'data/sevenplane/' # ！！注意修改encoder后需要修改数据目录\n",
    "num_workers = 0\n",
    "\n",
    "train_dataset = GoDataset(preprocess_dir, datatype='train')\n",
    "test_dataset = GoDataset(preprocess_dir, datatype='test')\n",
    "\n",
    "train_dataloader = DataLoader(train_dataset, batch_size=64, shuffle=False, num_workers=num_workers)\n",
    "test_dataloader = DataLoader(test_dataset, batch_size=64, shuffle=False, num_workers=num_workers)\n",
    "\n",
    "# 不shuffle, 就没有很多问题，每次只需要缓存几个文件(已经实现)\n",
    "# 但是这样就会导致棋局后面的棋面的bias，学习率下降。 所以用 优化器adagrad adadelta\n",
    "# 可以对比测试一下，shuffle和不shuffle的差异。添加缓存设计后是什么情况。\n",
    "# reshuffle the data at every epoch to reduce model overfitting"
   ]
  },
  {
   "cell_type": "code",
   "execution_count": 9,
   "metadata": {},
   "outputs": [
    {
     "name": "stdout",
     "output_type": "stream",
     "text": [
      "<class 'torch.Tensor'> torch.Size([7, 19, 19]) torch.float32\n",
      "<class 'torch.Tensor'> torch.Size([]) tensor(263) torch.int64\n",
      "train_data:[388096] test_data:[12288].\n",
      "torch.Size([64, 7, 19, 19]) torch.Size([64])\n"
     ]
    }
   ],
   "source": [
    "x, y = train_dataset[0]\n",
    "print(type(x), x.shape, x.dtype)\n",
    "print(type(y), y.shape, y, y.dtype)\n",
    "\n",
    "print(\"train_data:[{}] test_data:[{}].\".format(len(train_dataset), len(test_dataset)))\n",
    "\n",
    "for x,y in train_dataloader:\n",
    "    print(x.shape, y.shape) # 每个batch数据的shape\n",
    "    break"
   ]
  },
  {
   "attachments": {},
   "cell_type": "markdown",
   "metadata": {},
   "source": [
    "### playground "
   ]
  },
  {
   "cell_type": "code",
   "execution_count": null,
   "metadata": {},
   "outputs": [],
   "source": [
    "import glob\n",
    "base = 'data/oneplane' + '/' + '*train_features_*.npy'\n",
    "res = []\n",
    "for feature_file in glob.glob(base):\n",
    "    res.append(feature_file)\n",
    "\n",
    "print(len(res), res)"
   ]
  }
 ],
 "metadata": {
  "kernelspec": {
   "display_name": "base",
   "language": "python",
   "name": "python3"
  },
  "language_info": {
   "codemirror_mode": {
    "name": "ipython",
    "version": 3
   },
   "file_extension": ".py",
   "mimetype": "text/x-python",
   "name": "python",
   "nbconvert_exporter": "python",
   "pygments_lexer": "ipython3",
   "version": "3.10.9"
  },
  "orig_nbformat": 4
 },
 "nbformat": 4,
 "nbformat_minor": 2
}
