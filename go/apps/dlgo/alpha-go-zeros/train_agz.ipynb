{
 "cells": [
  {
   "attachments": {},
   "cell_type": "markdown",
   "metadata": {},
   "source": [
    "# Alpha GO Zeros (part2: 训练agent)\n"
   ]
  },
  {
   "cell_type": "code",
   "execution_count": 1,
   "metadata": {},
   "outputs": [
    {
     "name": "stdout",
     "output_type": "stream",
     "text": [
      "/playground/sgd_deep_learning/sgd_rl\n"
     ]
    }
   ],
   "source": [
    "# 环境配置\n",
    "%cd /playground/sgd_deep_learning/sgd_rl/go\n",
    "import sys\n",
    "sys.path.append('./python')"
   ]
  },
  {
   "cell_type": "code",
   "execution_count": 2,
   "metadata": {},
   "outputs": [
    {
     "name": "stderr",
     "output_type": "stream",
     "text": [
      "/opt/conda/lib/python3.10/site-packages/tqdm/auto.py:22: TqdmWarning: IProgress not found. Please update jupyter and ipywidgets. See https://ipywidgets.readthedocs.io/en/stable/user_install.html\n",
      "  from .autonotebook import tqdm as notebook_tqdm\n"
     ]
    }
   ],
   "source": [
    "import os\n",
    "import torch\n",
    "\n",
    "from dlgo import zero"
   ]
  },
  {
   "cell_type": "code",
   "execution_count": 3,
   "metadata": {},
   "outputs": [
    {
     "name": "stdout",
     "output_type": "stream",
     "text": [
      "model file exists:  True\n",
      "device: cuda\n"
     ]
    }
   ],
   "source": [
    "# 数据 模型存放目录\n",
    "data_home_path = 'data/agz/'\n",
    "if not os.path.exists(data_home_path):\n",
    "    os.makedirs(data_home_path)\n",
    "\n",
    "class args:\n",
    "    learning_agent= data_home_path + 'agent_checkpoint.pth'\n",
    "    experience = [data_home_path + 'experience.pth'] # 训练数据可以保存在多个文件中，递归执行训练\n",
    "    agent_out = data_home_path + 'agent_checkpoint_update.pth'\n",
    "    \n",
    "    board_size = 9 # 缩小计算量, 保证算法的验证速度\n",
    "    num_games = 10 # 每轮迭代只收集10games的数据\n",
    "    lr=0.001\n",
    "    batch_size =512 # batch_size\n",
    "    \n",
    "# 全局变量\n",
    "global BOARD_SIZE\n",
    "BOARD_SIZE = args.board_size\n",
    "\n",
    "device = torch.device(\"cuda\" if torch.cuda.is_available() else \"cpu\")\n",
    "\n",
    "print(\"model file exists: \", os.path.exists(args.learning_agent))\n",
    "print(\"device:\", device)"
   ]
  },
  {
   "cell_type": "code",
   "execution_count": 4,
   "metadata": {},
   "outputs": [
    {
     "name": "stderr",
     "output_type": "stream",
     "text": [
      "/opt/conda/lib/python3.10/site-packages/torch/nn/modules/lazy.py:180: UserWarning: Lazy modules are a new feature under heavy development so changes to the API or functionality can happen at any moment.\n",
      "  warnings.warn('Lazy modules are a new feature under heavy development '\n"
     ]
    },
    {
     "name": "stdout",
     "output_type": "stream",
     "text": [
      "iter: 1 batch_size 512\n",
      "iter: 2 batch_size 512\n",
      "iter: 3 batch_size 40\n"
     ]
    }
   ],
   "source": [
    "def main():\n",
    "    learning_agent_filename = args.learning_agent\n",
    "    updated_agent_filename = args.agent_out\n",
    "    \n",
    "    experience_files = args.experience\n",
    "    \n",
    "    learning_rate = args.lr\n",
    "    batch_size = args.batch_size\n",
    "    \n",
    "    # init agent object\n",
    "    encoder = zero.ZeroEncoder(BOARD_SIZE)  # 注意这里的转变\n",
    "    model = zero.agznet(input_channel_num=encoder.num_planes(), \n",
    "                            moves_num=encoder.num_moves())\n",
    "\n",
    "    # 训练阶段只需要一个agent train self._model 即可\n",
    "    learning_agent = None\n",
    "    if not os.path.exists(learning_agent_filename): # check_point不存在\n",
    "        learning_agent = zero.ZeroAgent(model, encoder, rounds_per_move=20, c=2.0, device=device) \n",
    "    else: \n",
    "        learning_agent = zero.load_agent(model, encoder, learning_agent_filename, rounds_per_move=10, c=2.0, device=device)\n",
    "    assert learning_agent is not None\n",
    "\n",
    "    # 读取数据训练\n",
    "    for exp_filename in experience_files:\n",
    "        exp_buffer = zero.load_experience(exp_filename)\n",
    "        \n",
    "        learning_agent.train(\n",
    "            exp_buffer,\n",
    "            lr=learning_rate,\n",
    "            batch_size=batch_size)\n",
    "\n",
    "    # 模型再保存\n",
    "    learning_agent.serialize(updated_agent_filename)\n",
    "\n",
    "    # todo \n",
    "    # 会产生一堆的checkpoint和 训练数据，这些文件保存的名字怎么选择\n",
    "    # 怎么自动的去迭代这个训练过程，非要人工介入的时候再暂停人工介入\n",
    "main()"
   ]
  }
 ],
 "metadata": {
  "kernelspec": {
   "display_name": "base",
   "language": "python",
   "name": "python3"
  },
  "language_info": {
   "codemirror_mode": {
    "name": "ipython",
    "version": 3
   },
   "file_extension": ".py",
   "mimetype": "text/x-python",
   "name": "python",
   "nbconvert_exporter": "python",
   "pygments_lexer": "ipython3",
   "version": "3.10.9"
  },
  "orig_nbformat": 4
 },
 "nbformat": 4,
 "nbformat_minor": 2
}
