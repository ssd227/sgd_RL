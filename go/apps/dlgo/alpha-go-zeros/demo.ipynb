{
 "cells": [
  {
   "attachments": {},
   "cell_type": "markdown",
   "metadata": {},
   "source": [
    "# Alpha Go Zero Demo\n",
    "\n",
    "\n",
    "    # This scripts demonstrates all the steps to create and train an\n",
    "    # AGZ-style bot.\n",
    "    # For practical purposes, you would separate this script into multiple\n",
    "    # parts (for initializing, generating self-play games, and training).\n",
    "    # You'll also need to run for many more rounds."
   ]
  },
  {
   "cell_type": "code",
   "execution_count": null,
   "metadata": {},
   "outputs": [],
   "source": [
    "# 环境配置\n",
    "%cd /playground/sgd_deep_learning/sgd_rl/go\n",
    "import sys\n",
    "sys.path.append('./python')"
   ]
  },
  {
   "cell_type": "code",
   "execution_count": null,
   "metadata": {},
   "outputs": [],
   "source": [
    "import torch\n",
    "\n",
    "from dlgo import scoring\n",
    "from dlgo import zero\n",
    "from dlgo.goboard_fast import GameState, Player, Point"
   ]
  },
  {
   "cell_type": "code",
   "execution_count": null,
   "metadata": {},
   "outputs": [],
   "source": [
    "def simulate_game(board_size, black_agent, white_agent):\n",
    "    \n",
    "    print('Starting the game!')\n",
    "    game = GameState.new_game(board_size)\n",
    "    agents = {\n",
    "        Player.black: black_agent,\n",
    "        Player.white: white_agent,\n",
    "    }\n",
    "\n",
    "    black_agent.collector.begin_episode()\n",
    "    white_agent.collector.begin_episode()\n",
    "    \n",
    "    while not game.is_over():\n",
    "        next_move = agents[game.next_player].select_move(game)\n",
    "        game = game.apply_move(next_move)\n",
    "\n",
    "    game_result = scoring.compute_game_result(game)\n",
    "    print(game_result)\n",
    "    \n",
    "    # Give the reward to the right agent.\n",
    "    if game_result.winner == Player.black:\n",
    "        black_agent.collector.complete_episode(1)\n",
    "        white_agent.collector.complete_episode(-1)\n",
    "    else:\n",
    "        black_agent.collector.complete_episode(-1)\n",
    "        white_agent.collector.complete_episode(1)"
   ]
  },
  {
   "cell_type": "code",
   "execution_count": null,
   "metadata": {},
   "outputs": [],
   "source": [
    "def main():\n",
    "    # Initialize a zero agent\n",
    "    class args:\n",
    "        board_size = 9\n",
    "        device = torch.device(\"cuda\" if torch.cuda.is_available() else \"cpu\")\n",
    "        encoder = zero.ZeroEncoder(board_size)  # 注意这里的转变\n",
    "        model = zero.agznet(input_channel_num=encoder.num_planes(), \n",
    "                            moves_num=encoder.num_moves())\n",
    "        lr = 0.01\n",
    "        batch_size = 2048\n",
    "        K = 5 # 训练收集的对局数\n",
    "    \n",
    "    # To train a strong bot, you should run at least \n",
    "    # a few hundred rounds per move (1600 rounds per move)\n",
    "    \n",
    "    black_agent = zero.ZeroAgent(args.model, args.encoder, rounds_per_move=10, c=2.0, device=args.device)\n",
    "    white_agent = zero.ZeroAgent(args.model, args.encoder, rounds_per_move=10, c=2.0, device=args.device)\n",
    "    \n",
    "    c1 = zero.ZeroExperienceCollector()\n",
    "    c2 = zero.ZeroExperienceCollector()\n",
    "    black_agent.set_collector(c1)\n",
    "    white_agent.set_collector(c2)\n",
    "\n",
    "    # In real training, you should simulate thousands of games for each training batch.\n",
    "    for _ in range(args.K):\n",
    "        simulate_game(args.board_size, black_agent, white_agent)\n",
    "\n",
    "    exp_data = zero.combine_experience([c1, c2])\n",
    "    black_agent.train(exp_data, args.lr, args.batch_size) \n",
    "\n",
    "main()"
   ]
  }
 ],
 "metadata": {
  "kernelspec": {
   "display_name": "base",
   "language": "python",
   "name": "python3"
  },
  "language_info": {
   "codemirror_mode": {
    "name": "ipython",
    "version": 3
   },
   "file_extension": ".py",
   "mimetype": "text/x-python",
   "name": "python",
   "nbconvert_exporter": "python",
   "pygments_lexer": "ipython3",
   "version": "3.10.9"
  },
  "orig_nbformat": 4
 },
 "nbformat": 4,
 "nbformat_minor": 2
}
