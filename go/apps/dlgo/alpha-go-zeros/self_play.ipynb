{
 "cells": [
  {
   "attachments": {},
   "cell_type": "markdown",
   "metadata": {},
   "source": [
    "# Alpha Go Zeors (part1: 对局数据收集)\n",
    " \n",
    "    agent1 and agent2 are identical\n",
    "    combine their experiences for training (从两个方便收集到的数据一块训练)\n",
    "\n",
    "    2s一盘棋局，是不是代价有点大。"
   ]
  },
  {
   "cell_type": "code",
   "execution_count": null,
   "metadata": {},
   "outputs": [],
   "source": [
    "# 环境配置\n",
    "%cd /playground/sgd_deep_learning/sgd_rl/go\n",
    "import sys\n",
    "sys.path.append('./python')"
   ]
  },
  {
   "cell_type": "code",
   "execution_count": null,
   "metadata": {},
   "outputs": [],
   "source": [
    "import os\n",
    "import time\n",
    "import torch\n",
    "from collections import namedtuple\n",
    "\n",
    "from dlgo import scoring\n",
    "from dlgo import zero\n",
    "from dlgo import GameState, Player, Point"
   ]
  },
  {
   "attachments": {},
   "cell_type": "markdown",
   "metadata": {},
   "source": [
    "### 脚本输入参数设定"
   ]
  },
  {
   "cell_type": "code",
   "execution_count": null,
   "metadata": {},
   "outputs": [],
   "source": [
    "# 数据 模型存放目录\n",
    "data_home_path = 'data/agz/'\n",
    "if not os.path.exists(data_home_path):\n",
    "    os.makedirs(data_home_path)\n",
    "\n",
    "# 脚本输入参数 \n",
    "class args:\n",
    "    board_size = 9 # 缩小计算量, 保证算法的验证速度\n",
    "    num_games = 10 # 每轮迭代只收集10games的数据\n",
    "    learning_agent = data_home_path + 'agent_checkpoint.pth'\n",
    "    experience_out = data_home_path + 'experience.pth'\n",
    "    \n",
    "print(os.path.exists(args.learning_agent))\n",
    "\n",
    "# 全局变量\n",
    "global BOARD_SIZE\n",
    "BOARD_SIZE = args.board_size\n",
    "\n",
    "device = torch.device(\"cuda\" if torch.cuda.is_available() else \"cpu\")\n",
    "print(\"device:\", device)"
   ]
  },
  {
   "attachments": {},
   "cell_type": "markdown",
   "metadata": {},
   "source": [
    "### helper functions"
   ]
  },
  {
   "cell_type": "code",
   "execution_count": null,
   "metadata": {},
   "outputs": [],
   "source": [
    "COLS = 'ABCDEFGHJKLMNOPQRST'\n",
    "STONE_TO_CHAR = {\n",
    "    None: '.',\n",
    "    Player.black: 'x',\n",
    "    Player.white: 'o',\n",
    "}\n",
    "\n",
    "def avg(items):\n",
    "    if not items:\n",
    "        return 0.0\n",
    "    return sum(items) / float(len(items))\n",
    "\n",
    "\n",
    "def print_board(board):\n",
    "    for row in range(BOARD_SIZE, 0, -1):\n",
    "        line = []\n",
    "        for col in range(1, BOARD_SIZE + 1):\n",
    "            stone = board.get(Point(row=row, col=col))\n",
    "            line.append(STONE_TO_CHAR[stone])\n",
    "        print('%2d %s' % (row, ''.join(line)))\n",
    "    print('   ' + COLS[:BOARD_SIZE])\n",
    "\n",
    "\n",
    "class GameRecord(namedtuple('GameRecord', 'moves winner margin')):\n",
    "    pass\n",
    "\n",
    "def name(player):\n",
    "    if player == Player.black:\n",
    "        return 'B'\n",
    "    return 'W'"
   ]
  },
  {
   "attachments": {},
   "cell_type": "markdown",
   "metadata": {},
   "source": [
    "### 模拟对局"
   ]
  },
  {
   "cell_type": "code",
   "execution_count": null,
   "metadata": {},
   "outputs": [],
   "source": [
    "def simulate_game(black_player, white_player):\n",
    "    moves = []\n",
    "    game = GameState.new_game(BOARD_SIZE)\n",
    "    agents = {\n",
    "        Player.black: black_player,\n",
    "        Player.white: white_player,\n",
    "    }\n",
    "    while not game.is_over():\n",
    "        # print_board(game.board)\n",
    "        next_move = agents[game.next_player].select_move(game)\n",
    "        # print('[log] {} move-{}'.format(game.next_player, next_move))\n",
    "        moves.append(next_move)\n",
    "        game = game.apply_move(next_move)\n",
    "\n",
    "    print_board(game.board)\n",
    "    game_result = scoring.compute_game_result(game)\n",
    "    print(game_result)\n",
    "\n",
    "    # nametuple todo moves作用？margin作用？\n",
    "    return GameRecord(\n",
    "        moves=moves,\n",
    "        winner=game_result.winner,\n",
    "        margin=game_result.winning_margin,\n",
    "    )"
   ]
  },
  {
   "attachments": {},
   "cell_type": "markdown",
   "metadata": {},
   "source": [
    "### main loop of self_play"
   ]
  },
  {
   "cell_type": "code",
   "execution_count": null,
   "metadata": {},
   "outputs": [],
   "source": [
    "def main_loop():\n",
    "    agent_filename = args.learning_agent\n",
    "    experience_filename = args.experience_out\n",
    "\n",
    "    encoder = zero.ZeroEncoder(BOARD_SIZE)\n",
    "    model = zero.agznet(input_channel_num=encoder.num_planes(), \n",
    "                            moves_num=encoder.num_moves())\n",
    "    agent1, agent2 = None, None\n",
    "    if not os.path.exists(agent_filename):\n",
    "        # TODO rounds_per_move 10->20, 模拟的时间没有翻倍，只涨了一点。需要做性能分析\n",
    "        agent1 = zero.ZeroAgent(model, encoder, rounds_per_move=20, c=2.0, device=device) \n",
    "        agent2 = zero.ZeroAgent(model, encoder, rounds_per_move=20, c=2.0, device=device)\n",
    "    else: \n",
    "        agent1 = zero.load_agent(model, encoder, agent_filename, rounds_per_move=10, c=2.0, device=device)\n",
    "        agent2 = zero.load_agent(model, encoder, agent_filename, rounds_per_move=10, c=2.0, device=device)\n",
    "    \n",
    "    assert (agent1 is not None) and (agent2 is not None)\n",
    "\n",
    "    collector1 = zero.ZeroExperienceCollector()\n",
    "    collector2 = zero.ZeroExperienceCollector()\n",
    "    agent1.set_collector(collector1)\n",
    "    agent2.set_collector(collector2)\n",
    "    #######################################################################\n",
    "    t1 = time.time()\n",
    "    for i in range(args.num_games):\n",
    "        print('Simulating game %d/%d...' % (i + 1, args.num_games))\n",
    "        collector1.begin_episode()\n",
    "        collector2.begin_episode()\n",
    "\n",
    "        game_record = simulate_game(agent1, agent2)\n",
    "        if game_record.winner == Player.black:\n",
    "            collector1.complete_episode(reward=1)\n",
    "            collector2.complete_episode(reward=-1)\n",
    "        else:\n",
    "            collector2.complete_episode(reward=1)\n",
    "            collector1.complete_episode(reward=-1)\n",
    "\n",
    "    print(\"simulatinon of {} games , cost_time:{:.3f}s.\".format(args.num_games, time.time()-t1))\n",
    "\n",
    "    experience = zero.combine_experience([collector1, collector2]) # 整合所有训练数据\n",
    "    experience.serialize(experience_filename) # 序列化存储\n",
    "    \n",
    "    print(\"collect {} samples\".format(len(experience)))\n",
    "    \n",
    "main_loop()"
   ]
  }
 ],
 "metadata": {
  "kernelspec": {
   "display_name": "base",
   "language": "python",
   "name": "python3"
  },
  "language_info": {
   "codemirror_mode": {
    "name": "ipython",
    "version": 3
   },
   "file_extension": ".py",
   "mimetype": "text/x-python",
   "name": "python",
   "nbconvert_exporter": "python",
   "pygments_lexer": "ipython3",
   "version": "3.10.9"
  },
  "orig_nbformat": 4
 },
 "nbformat": 4,
 "nbformat_minor": 2
}
