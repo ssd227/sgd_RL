{
 "cells": [
  {
   "attachments": {},
   "cell_type": "markdown",
   "metadata": {},
   "source": [
    "## Play Tic-Tac-Toe\n",
    "        使用minmax递归树搜索\n",
    "        直观感受：在3*3的棋盘上，递归的搜索结果都很慢\n",
    "        "
   ]
  },
  {
   "cell_type": "code",
   "execution_count": 9,
   "metadata": {},
   "outputs": [
    {
     "name": "stdout",
     "output_type": "stream",
     "text": [
      "/playground/sgd_deep_learning/sgd_rl\n"
     ]
    }
   ],
   "source": [
    "# 环境配置\n",
    "%cd /playground/sgd_deep_learning/sgd_rl/go\n",
    "import sys\n",
    "sys.path.append('./python')"
   ]
  },
  {
   "cell_type": "code",
   "execution_count": 10,
   "metadata": {},
   "outputs": [],
   "source": [
    "from tictactoe import minimax\n",
    "import tictactoe as ttt\n",
    "from IPython.display import clear_output\n",
    "import time\n",
    "\n",
    "COL_NAMES = 'ABC'"
   ]
  },
  {
   "cell_type": "code",
   "execution_count": 11,
   "metadata": {},
   "outputs": [],
   "source": [
    "def print_board(board):\n",
    "    print('   A   B   C')\n",
    "    for row in (1, 2, 3):\n",
    "        pieces = []\n",
    "        for col in (1, 2, 3):\n",
    "            piece = board.get(ttt.Point(row, col))\n",
    "            if piece == ttt.Player.x:\n",
    "                pieces.append('X')\n",
    "            elif piece == ttt.Player.o:\n",
    "                pieces.append('O')\n",
    "            else:\n",
    "                pieces.append(' ')\n",
    "        print('%d  %s' % (row, ' | '.join(pieces)))\n",
    "\n",
    "def point_from_coords(text):\n",
    "    col_name = text[0]\n",
    "    row = int(text[1])\n",
    "    return ttt.Point(row, COL_NAMES.index(col_name) + 1)\n",
    "\n",
    "def print_move(player, move):\n",
    "    move_str = '%s%d' % (COL_NAMES[move.point.col - 1], move.point.row)\n",
    "    print('%s %s' % (player, move_str))"
   ]
  },
  {
   "cell_type": "code",
   "execution_count": 12,
   "metadata": {},
   "outputs": [
    {
     "name": "stdout",
     "output_type": "stream",
     "text": [
      "   A   B   C\n",
      "1  O | X | X\n",
      "2  X | X | O\n",
      "3  O | O | X\n",
      "Player.x C1\n",
      "   A   B   C\n",
      "1  O | X | X\n",
      "2  X | X | O\n",
      "3  O | O | X\n",
      "It's a draw.\n"
     ]
    }
   ],
   "source": [
    "game = ttt.GameState.new_game()\n",
    "\n",
    "human_player = ttt.Player.x\n",
    "# bot_player = ttt.Player.o\n",
    "\n",
    "bot = minimax.MinimaxAgent()\n",
    "print_board(game.board)\n",
    "\n",
    "while not game.is_over():\n",
    "    if game.next_player == human_player:\n",
    "        human_move = input('输入[A1-C3]:')\n",
    "        point = point_from_coords(human_move.strip())\n",
    "        move = ttt.Move(point)\n",
    "    else:\n",
    "        move = bot.select_move(game)\n",
    "    \n",
    "    game = game.apply_move(move) # 应用\n",
    "    \n",
    "    clear_output(wait=True) # clean the screen\n",
    "    print_board(game.board)\n",
    "    print_move(game.next_player.other, move)\n",
    "    time.sleep(0.1) \n",
    "\n",
    "print_board(game.board)\n",
    "winner = game.winner()\n",
    "if winner is None:\n",
    "    print(\"It's a draw.\")\n",
    "else:\n",
    "    print('Winner: ' + str(winner))"
   ]
  }
 ],
 "metadata": {
  "kernelspec": {
   "display_name": "base",
   "language": "python",
   "name": "python3"
  },
  "language_info": {
   "codemirror_mode": {
    "name": "ipython",
    "version": 3
   },
   "file_extension": ".py",
   "mimetype": "text/x-python",
   "name": "python",
   "nbconvert_exporter": "python",
   "pygments_lexer": "ipython3",
   "version": "3.10.9"
  },
  "orig_nbformat": 4
 },
 "nbformat": 4,
 "nbformat_minor": 2
}
