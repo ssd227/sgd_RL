{
 "cells": [
  {
   "attachments": {},
   "cell_type": "markdown",
   "metadata": {},
   "source": [
    "## 蒙特卡洛搜索树\n",
    "---\n",
    "* 控制总搜索资源的量\n",
    "* 在explore和exploit间做trad off\n",
    "\n",
    "---\n",
    "* 由于是随机对局，rollout次数较少时，反而没有alphabeta智能\n",
    "  * minmax 搜索深度设为3，在gameState is_over的前3步，必能找出防止玩家获胜的策略\n",
    "  * 相比较MCTS的随机rollout，500时结果不太靠谱。 但是提升到5000，开始有点智能的味道。\n",
    "* Tie局面是否需要合并到win count中来辅助策略选择，保证不输。目前只看赢面的大小\n",
    "\n",
    "todo \n",
    "  计算效率问题，用golang重写，可能1W或者5K的检索可以缩小到合理时间，看着还挺智能的。快10倍，1W次可以在1分钟左右处理完\n",
    "  board size变大后，rollout耗时边长，但是tie率降低。目前只能设置到8"
   ]
  },
  {
   "cell_type": "code",
   "execution_count": null,
   "metadata": {},
   "outputs": [],
   "source": [
    "# 环境配置\n",
    "%cd ../../\n",
    "import sys\n",
    "sys.path.append('./python')"
   ]
  },
  {
   "cell_type": "code",
   "execution_count": null,
   "metadata": {},
   "outputs": [],
   "source": [
    "from dlgobang import GameState, Player, Move, Point\n",
    "from dlgobang.agent import MCTSAgent\n",
    "from dlgobang.utils import print_board, print_move, point_from_coords"
   ]
  },
  {
   "cell_type": "code",
   "execution_count": null,
   "metadata": {},
   "outputs": [],
   "source": [
    "def capture_diff(game_state):\n",
    "    black_stones = 0\n",
    "    white_stones = 0\n",
    "    for r in range(1, game_state.board.num_rows + 1):\n",
    "        for c in range(1, game_state.board.num_cols + 1):\n",
    "            p = Point(r, c)\n",
    "            color = game_state.board.get(p)\n",
    "            if color == Player.BLACK:\n",
    "                black_stones += 1\n",
    "            elif color == Player.WHITE:\n",
    "                white_stones += 1\n",
    "    diff = black_stones - white_stones\n",
    "    if game_state.next_player == Player.BLACK:\n",
    "        return diff\n",
    "    return -1 * diff"
   ]
  },
  {
   "cell_type": "code",
   "execution_count": null,
   "metadata": {},
   "outputs": [],
   "source": [
    "BOARD_SIZE = 8\n",
    "game = GameState.new_game(BOARD_SIZE)\n",
    "bot = MCTSAgent(5000, temperature=1.4) # 围棋每一步需要搜索1W步才有业余1dan的效果\n",
    "\n",
    "while not game.is_over():\n",
    "    print_board(game.board)\n",
    "    if game.next_player == Player.BLACK:\n",
    "        human_move = input('输入落子[A1-]:')\n",
    "        point = point_from_coords(human_move.strip())\n",
    "        move = Move.play(point)\n",
    "    else:\n",
    "        move = bot.select_move(game)\n",
    "    print_move(game.next_player, move)\n",
    "    game = game.apply_move(move)"
   ]
  }
 ],
 "metadata": {
  "kernelspec": {
   "display_name": "base",
   "language": "python",
   "name": "python3"
  },
  "language_info": {
   "codemirror_mode": {
    "name": "ipython",
    "version": 3
   },
   "file_extension": ".py",
   "mimetype": "text/x-python",
   "name": "python",
   "nbconvert_exporter": "python",
   "pygments_lexer": "ipython3",
   "version": "3.12.3"
  },
  "orig_nbformat": 4
 },
 "nbformat": 4,
 "nbformat_minor": 2
}
