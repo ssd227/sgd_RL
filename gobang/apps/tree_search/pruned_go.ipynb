{
 "cells": [
  {
   "attachments": {},
   "cell_type": "markdown",
   "metadata": {},
   "source": [
    "## Minmax + Pruning\n",
    "\n",
    "### + 状态评估，限制最大搜索深度\n",
    "\n",
    "* 只做状态评估其实还是挺慢的，棋盘大小为5、深度为3的检索，就要很久了\n",
    "* 也许是python实现的速度不太行"
   ]
  },
  {
   "cell_type": "code",
   "execution_count": null,
   "metadata": {},
   "outputs": [],
   "source": [
    "# 环境配置\n",
    "%cd ../../\n",
    "import sys\n",
    "sys.path.append('./python')"
   ]
  },
  {
   "cell_type": "code",
   "execution_count": null,
   "metadata": {},
   "outputs": [],
   "source": [
    "from dlgobang import GameState, Player, Move, Point\n",
    "from dlgobang.agent import DepthPrunedAgent\n",
    "from dlgobang.utils import print_board, print_move, point_from_coords"
   ]
  },
  {
   "cell_type": "code",
   "execution_count": null,
   "metadata": {},
   "outputs": [],
   "source": [
    "# 极简棋局状态评估，，简化胜负判定\n",
    "def capture_diff_v1(game_state:GameState):\n",
    "    black_score = 0\n",
    "    white_score = 0\n",
    "    \n",
    "    # 只比较1-2-3-4连子数目， 威胁分分别为（1，3，10，20）\n",
    "    smap = {1:1, 2:3, 3:10, 4:20}\n",
    "\n",
    "    for line in game_state.board.lines.values():\n",
    "        if game_state.next_player == Player.BLACK:\n",
    "            black_score += smap[len(line)]\n",
    "        else:\n",
    "            white_score += smap[len(line)]\n",
    "        \n",
    "    diff = black_score - white_score\n",
    "    \n",
    "    if game_state.next_player == Player.BLACK:\n",
    "        return diff\n",
    "    return -1 * diff"
   ]
  },
  {
   "attachments": {},
   "cell_type": "markdown",
   "metadata": {},
   "source": [
    "### 人机博弈\n",
    "搜索深度为3，复杂度类似与tic tac toe的每一步的递归判定。 单线程的ai-bot的落子速度很慢。"
   ]
  },
  {
   "cell_type": "code",
   "execution_count": null,
   "metadata": {},
   "outputs": [],
   "source": [
    "BOARD_SIZE = 5\n",
    "game = GameState.new_game(BOARD_SIZE)\n",
    "bot = DepthPrunedAgent(3, capture_diff_v1) # 最大搜索深度3，仅通过棋子数的diff来判断棋面局势\n",
    "\n",
    "while not game.is_over():\n",
    "    print_board(game.board)\n",
    "    if game.next_player == Player.BLACK:\n",
    "        human_move = input('输入落子[A1-]:')\n",
    "        point = point_from_coords(human_move.strip())\n",
    "        move = Move.play(point)\n",
    "    else:\n",
    "        move = bot.select_move(game)\n",
    "    print_move(game.next_player, move)\n",
    "    game = game.apply_move(move)"
   ]
  }
 ],
 "metadata": {
  "kernelspec": {
   "display_name": "base",
   "language": "python",
   "name": "python3"
  },
  "language_info": {
   "codemirror_mode": {
    "name": "ipython",
    "version": 3
   },
   "file_extension": ".py",
   "mimetype": "text/x-python",
   "name": "python",
   "nbconvert_exporter": "python",
   "pygments_lexer": "ipython3",
   "version": "3.12.3"
  },
  "orig_nbformat": 4
 },
 "nbformat": 4,
 "nbformat_minor": 2
}
