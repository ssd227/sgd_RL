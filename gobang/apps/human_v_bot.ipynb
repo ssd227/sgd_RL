{
 "cells": [
  {
   "attachments": {},
   "cell_type": "markdown",
   "metadata": {},
   "source": [
    "## Human Vs Bot"
   ]
  },
  {
   "cell_type": "code",
   "execution_count": null,
   "metadata": {},
   "outputs": [],
   "source": [
    "# 环境配置\n",
    "%cd ../\n",
    "# %cd /playground/sgd_deep_learning/sgd_rl/gobang\n",
    "import sys\n",
    "sys.path.append('./python')"
   ]
  },
  {
   "cell_type": "code",
   "execution_count": null,
   "metadata": {},
   "outputs": [],
   "source": [
    "from dlgobang import gobangboard\n",
    "from dlgobang import gobangtypes\n",
    "from dlgobang.agent.naive import RandomBot\n",
    "from dlgobang.utils import print_board, print_move, point_from_coords\n",
    "import time\n",
    "\n",
    "from IPython.display import clear_output"
   ]
  },
  {
   "cell_type": "code",
   "execution_count": null,
   "metadata": {},
   "outputs": [],
   "source": [
    "board_size = 9\n",
    "game = gobangboard.GameState.new_game(board_size)\n",
    "bot = RandomBot()\n",
    "while not game.is_over():\n",
    "    clear_output(wait=False)\n",
    "    print_board(game.board)\n",
    "    if game.next_player == gobangtypes.Player.black:\n",
    "        human_move = input('黑子输入[A1-J9]:')\n",
    "        point = point_from_coords(human_move.strip())\n",
    "        move = gobangboard.Move.play(point)\n",
    "    else:\n",
    "        move = bot.select_move(game)\n",
    "    print_move(game.next_player, move)\n",
    "    game = game.apply_move(move)"
   ]
  }
 ],
 "metadata": {
  "kernelspec": {
   "display_name": "base",
   "language": "python",
   "name": "python3"
  },
  "language_info": {
   "codemirror_mode": {
    "name": "ipython",
    "version": 3
   },
   "file_extension": ".py",
   "mimetype": "text/x-python",
   "name": "python",
   "nbconvert_exporter": "python",
   "pygments_lexer": "ipython3",
   "version": "3.10.9"
  },
  "orig_nbformat": 4
 },
 "nbformat": 4,
 "nbformat_minor": 2
}
