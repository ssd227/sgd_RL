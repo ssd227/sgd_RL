{
 "cells": [
  {
   "cell_type": "code",
   "execution_count": null,
   "metadata": {},
   "outputs": [],
   "source": [
    "import gymnasium as gym\n",
    "env = gym.make(\"CartPole-v1\", render_mode = 'human')\n",
    "\n",
    "\n",
    "observation, info = env.reset(seed=42)\n",
    "for i in range(100):\n",
    "   # env.render()\n",
    "   \n",
    "   action = env.action_space.sample()  # this is where you would insert your policy\n",
    "   observation, reward, terminated, truncated, info = env.step(action)\n",
    "   print(i,observation, reward, terminated, truncated, info)\n",
    "\n",
    "   if terminated or truncated:\n",
    "      observation, info = env.reset()\n",
    "\n",
    "env.close()"
   ]
  },
  {
   "cell_type": "code",
   "execution_count": null,
   "metadata": {},
   "outputs": [],
   "source": [
    "import gymnasium as gym\n",
    "env = gym.make(\"Pong-v4\", render_mode = 'human')\n",
    "\n",
    "observation, info = env.reset(seed=42)\n",
    "for _ in range(10):\n",
    "   # env.render()\n",
    "   \n",
    "   action = env.action_space.sample()  # this is where you would insert your policy\n",
    "   observation, reward, terminated, truncated, info = env.step(action)\n",
    "   print(type(observation),observation.shape)\n",
    "   # print(f'i:{i}\\n observation:{observation.shape}\\n reward:{reward}\\n terminated:{terminated}\\n truncated:{truncated}\\n info:{info}\\n')\n",
    "   \n",
    "\n",
    "   if terminated or truncated:\n",
    "      observation, info = env.reset()\n",
    "\n",
    "env.close()"
   ]
  }
 ],
 "metadata": {
  "kernelspec": {
   "display_name": "base",
   "language": "python",
   "name": "python3"
  },
  "language_info": {
   "codemirror_mode": {
    "name": "ipython",
    "version": 3
   },
   "file_extension": ".py",
   "mimetype": "text/x-python",
   "name": "python",
   "nbconvert_exporter": "python",
   "pygments_lexer": "ipython3",
   "version": "3.11.9"
  },
  "orig_nbformat": 4
 },
 "nbformat": 4,
 "nbformat_minor": 2
}
